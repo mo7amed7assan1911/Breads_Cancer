{
 "cells": [
  {
   "cell_type": "markdown",
   "id": "7e2dbec8",
   "metadata": {
    "id": "_82bPl2CjLgM"
   },
   "source": [
    "# DSAI 2201 Winter 2024 Assignment"
   ]
  },
  {
   "cell_type": "code",
   "execution_count": 1,
   "id": "cf3a8465",
   "metadata": {
    "id": "lCa7M9GTXoGn"
   },
   "outputs": [],
   "source": [
    "NAME = \"Write your name her\"\n",
    "\n",
    "COLLABORATORS = \"\""
   ]
  },
  {
   "cell_type": "markdown",
   "id": "f3200230",
   "metadata": {
    "id": "ahvYdmy4XoGp"
   },
   "source": [
    "## Assignment 1 - Data Analysis\n",
    "**(20 points in total)**"
   ]
  },
  {
   "cell_type": "markdown",
   "id": "975c05cf",
   "metadata": {
    "id": "KuYy3ZSiXoGp"
   },
   "source": [
    "In Assignments part 1 & part 2 we will go through the entire journey of a small data science project.\n",
    "\n",
    "More details about the dataset can be found in the Kaggle website in the following links: https://www.kaggle.com/datasets/reihanenamdari/breast-cancer\n",
    "\n",
    "But a modified version of the dataset was attached in the dropbox, please use it to answer this assignment\n",
    "     \n",
    "\n"
   ]
  },
  {
   "cell_type": "markdown",
   "id": "070cd7fe",
   "metadata": {
    "id": "6Q5elKfTXoGq"
   },
   "source": [
    "**Question 1.**  _(2 points)_\n",
    "* A) Analyze the distribution of death events cases among the patients and the race. calculate their respective numbers and percentages.  _(0.5 points)_\n",
    "* B) Compute descriptive statistics of the data. Comment on the results.  _(0.75 points)_\n",
    "* C) Analyze the skew and the kurtosis of medical variables distributions(Numbers & Graphs). Comment on the results.  _(0.75  points)_\n",
    "\n",
    "**Question 2.**  _(2 points)_\n",
    "* Use univariate plots  to analyze patterns in each of the medical variables with respect to the outcome (death status). What categories of patients( race and marital status) were most likely to die from breast cancer? . (2 points)\n",
    "\n",
    "\n",
    "**Question 3.**  _(2 points)_\n",
    "* Use multivariate plots to:\n",
    "   * A) Analyze the relationship between medical variables. Comment on the results  _(1 points)_\n",
    "   * B) Identify potential factors that can predict Death event in married patients. Comment on the results.  _(1 points)_\n",
    "\n",
    "**Question 4.**  _(3 points)_\n",
    "* Identify and remove any outliers in the medical variables. Explain the rationale for identifying and removing outliers.  _(3 points)_\n",
    "\n",
    "**Question 5.**  _(3 points)_\n",
    "* How did you treat missing values for the attributes that you included in the analysis ? Provide a detailed explanation in the comments._(3 points)_\n",
    "\n",
    "**Question 6.**  _(3 points)_\n",
    "* The dataset contains  contains alot of zeros, identify which attributes cannot be 0 medically speaking, and impute them, while explaining the rational behind it._(3 points)_\n",
    "\n",
    "\n",
    "**Question 7.**  _(2 points)_\n",
    "* Identify the attibutes that will need rescalling ( with explanation ), apply one of the rescalling techniques we have seen in our course and explain your rational. _(2 points)_\n",
    "\n",
    "**Question 8.**  _(3 points)_\n",
    "* Through an extensive research, provide additional attributes that you can create that will enhance your dataset, explain the logic behind it, and add them to your data, _(1.5 points)_\n",
    "* identify the most irrelevant attribute(s), and exclude them from your project for the next steps  _(1.5 points)_"
   ]
  },
  {
   "cell_type": "code",
   "execution_count": 20,
   "id": "4fd52567-0262-417e-90e0-bc028dda6a70",
   "metadata": {},
   "outputs": [
    {
     "data": {
      "text/html": [
       "<div>\n",
       "<style scoped>\n",
       "    .dataframe tbody tr th:only-of-type {\n",
       "        vertical-align: middle;\n",
       "    }\n",
       "\n",
       "    .dataframe tbody tr th {\n",
       "        vertical-align: top;\n",
       "    }\n",
       "\n",
       "    .dataframe thead th {\n",
       "        text-align: right;\n",
       "    }\n",
       "</style>\n",
       "<table border=\"1\" class=\"dataframe\">\n",
       "  <thead>\n",
       "    <tr style=\"text-align: right;\">\n",
       "      <th></th>\n",
       "      <th>Age</th>\n",
       "      <th>Race</th>\n",
       "      <th>Marital Status</th>\n",
       "      <th>T Stage</th>\n",
       "      <th>N Stage</th>\n",
       "      <th>6th Stage</th>\n",
       "      <th>differentiate</th>\n",
       "      <th>Grade</th>\n",
       "      <th>A Stage</th>\n",
       "      <th>Tumor Size</th>\n",
       "      <th>Estrogen Status</th>\n",
       "      <th>Progesterone Status</th>\n",
       "      <th>Regional Node Examined</th>\n",
       "      <th>Reginol Node Positive</th>\n",
       "      <th>Survival Months</th>\n",
       "      <th>Status</th>\n",
       "    </tr>\n",
       "  </thead>\n",
       "  <tbody>\n",
       "    <tr>\n",
       "      <th>0</th>\n",
       "      <td>68</td>\n",
       "      <td>White</td>\n",
       "      <td>Married</td>\n",
       "      <td>T1</td>\n",
       "      <td>N1</td>\n",
       "      <td>IIA</td>\n",
       "      <td>Poorly differentiated</td>\n",
       "      <td>3</td>\n",
       "      <td>Regional</td>\n",
       "      <td>4.0</td>\n",
       "      <td>Positive</td>\n",
       "      <td>Positive</td>\n",
       "      <td>24</td>\n",
       "      <td>1</td>\n",
       "      <td>60.0</td>\n",
       "      <td>Alive</td>\n",
       "    </tr>\n",
       "    <tr>\n",
       "      <th>1</th>\n",
       "      <td>50</td>\n",
       "      <td>White</td>\n",
       "      <td>Married</td>\n",
       "      <td>T2</td>\n",
       "      <td>N2</td>\n",
       "      <td>IIIA</td>\n",
       "      <td>Moderately differentiated</td>\n",
       "      <td>2</td>\n",
       "      <td>Regional</td>\n",
       "      <td>35.0</td>\n",
       "      <td>Positive</td>\n",
       "      <td>Positive</td>\n",
       "      <td>14</td>\n",
       "      <td>5</td>\n",
       "      <td>62.0</td>\n",
       "      <td>Alive</td>\n",
       "    </tr>\n",
       "  </tbody>\n",
       "</table>\n",
       "</div>"
      ],
      "text/plain": [
       "   Age   Race Marital Status T Stage  N Stage 6th Stage  \\\n",
       "0   68  White        Married       T1      N1       IIA   \n",
       "1   50  White        Married       T2      N2      IIIA   \n",
       "\n",
       "               differentiate Grade   A Stage  Tumor Size Estrogen Status  \\\n",
       "0      Poorly differentiated     3  Regional         4.0        Positive   \n",
       "1  Moderately differentiated     2  Regional        35.0        Positive   \n",
       "\n",
       "  Progesterone Status  Regional Node Examined  Reginol Node Positive  \\\n",
       "0            Positive                      24                      1   \n",
       "1            Positive                      14                      5   \n",
       "\n",
       "   Survival Months Status  \n",
       "0             60.0  Alive  \n",
       "1             62.0  Alive  "
      ]
     },
     "execution_count": 20,
     "metadata": {},
     "output_type": "execute_result"
    }
   ],
   "source": [
    "import pandas as pd\n",
    "import numpy as np\n",
    "import matplotlib.pyplot as plt\n",
    "import seaborn as sns\n",
    "sns.set()\n",
    "\n",
    "df = pd.read_csv('Breast_Cancer-Winter2024.csv')\n",
    "df.head(2)"
   ]
  },
  {
   "cell_type": "markdown",
   "id": "b604a641",
   "metadata": {
    "id": "SsZ_wB-ZXoGq"
   },
   "source": [
    "## Q1:\n",
    "\n",
    "Solution:\n",
    "\n"
   ]
  },
  {
   "cell_type": "markdown",
   "id": "fcefc225-8264-487d-aef5-de20831c46cf",
   "metadata": {
    "jp-MarkdownHeadingCollapsed": true,
    "tags": []
   },
   "source": [
    "#### Q1-A)"
   ]
  },
  {
   "cell_type": "code",
   "execution_count": 54,
   "id": "76854a34-4cdc-4645-b196-6bbb481e5d4c",
   "metadata": {},
   "outputs": [
    {
     "name": "stdout",
     "output_type": "stream",
     "text": [
      "The percentage of Alive: 84.69%\n",
      "and percentage of dead: 15.31%\n"
     ]
    }
   ],
   "source": [
    "# alive, dead = (df.Status.value_counts() / df.shape[0]) * 100\n",
    "# print(f'The percentage of Alive: {alive:.4}%\\nand percentage of dead: {dead:.4}%')"
   ]
  },
  {
   "cell_type": "code",
   "execution_count": 64,
   "id": "c495706c-b247-47b4-8e8c-24ff05de24f1",
   "metadata": {},
   "outputs": [
    {
     "name": "stdout",
     "output_type": "stream",
     "text": [
      "Distribution of Race in numbers:\n",
      "White    3413\n",
      "Other     320\n",
      "Black     291\n",
      "Name: Race, dtype: int64\n",
      "==============================\n",
      "Distribution of Status in numbers:\n",
      "Alive    3408\n",
      "Dead      616\n",
      "Name: Status, dtype: int64\n"
     ]
    }
   ],
   "source": [
    "print('Distribution of Race in numbers:')\n",
    "print(df.Race.value_counts())\n",
    "\n",
    "print('='*30)\n",
    "\n",
    "print('Distribution of Status in numbers:')\n",
    "print(df.Status.value_counts())"
   ]
  },
  {
   "cell_type": "code",
   "execution_count": 49,
   "id": "7f1ad1bd",
   "metadata": {
    "tags": []
   },
   "outputs": [
    {
     "data": {
      "image/png": "[encoded data removed]",
      "text/plain": [
       "<Figure size 1200x600 with 2 Axes>"
      ]
     },
     "metadata": {},
     "output_type": "display_data"
    }
   ],
   "source": [
    "sns.set_palette('Reds')\n",
    "\n",
    "race_values = df.Race.value_counts()\n",
    "status_values = df.Status.value_counts()\n",
    "\n",
    "fig, ax = plt.subplots(1, 2, figsize=(12, 6));\n",
    "ax[0].pie(race_values, labels=race_values.index,  autopct='%1.1f%%', startangle=90);\n",
    "ax[0].set_title('Distribution of Race', fontweight='bold');\n",
    "\n",
    "ax[1].pie(status_values, labels=status_values.index,  autopct='%1.1f%%', startangle=90);\n",
    "ax[1].set_title('Distribution of Death events cases', fontweight='bold');"
   ]
  },
  {
   "cell_type": "markdown",
   "id": "43419975-89da-4aae-8393-bbd7cb8c9b27",
   "metadata": {},
   "source": [
    "#### Q1-B)"
   ]
  },
  {
   "cell_type": "code",
   "execution_count": 69,
   "id": "39c8b004-722a-4d9c-bd73-ee4951a60fa8",
   "metadata": {},
   "outputs": [],
   "source": [
    "numeric_data_status = df.describe()\n",
    "object_data_status  = df.describe(include=['object'])"
   ]
  },
  {
   "cell_type": "markdown",
   "id": "da2fb339-01d0-4c56-952f-2a5556ede398",
   "metadata": {},
   "source": [
    "##### Numeric data"
   ]
  },
  {
   "cell_type": "code",
   "execution_count": 70,
   "id": "7ecccca8-ffbb-41c1-8851-1f4b15a4d811",
   "metadata": {},
   "outputs": [
    {
     "data": {
      "text/html": [
       "<div>\n",
       "<style scoped>\n",
       "    .dataframe tbody tr th:only-of-type {\n",
       "        vertical-align: middle;\n",
       "    }\n",
       "\n",
       "    .dataframe tbody tr th {\n",
       "        vertical-align: top;\n",
       "    }\n",
       "\n",
       "    .dataframe thead th {\n",
       "        text-align: right;\n",
       "    }\n",
       "</style>\n",
       "<table border=\"1\" class=\"dataframe\">\n",
       "  <thead>\n",
       "    <tr style=\"text-align: right;\">\n",
       "      <th></th>\n",
       "      <th>Age</th>\n",
       "      <th>Tumor Size</th>\n",
       "      <th>Regional Node Examined</th>\n",
       "      <th>Reginol Node Positive</th>\n",
       "      <th>Survival Months</th>\n",
       "    </tr>\n",
       "  </thead>\n",
       "  <tbody>\n",
       "    <tr>\n",
       "      <th>count</th>\n",
       "      <td>4024.000000</td>\n",
       "      <td>4018.000000</td>\n",
       "      <td>4024.000000</td>\n",
       "      <td>4024.000000</td>\n",
       "      <td>4017.000000</td>\n",
       "    </tr>\n",
       "    <tr>\n",
       "      <th>mean</th>\n",
       "      <td>53.972167</td>\n",
       "      <td>30.422101</td>\n",
       "      <td>14.357107</td>\n",
       "      <td>4.158052</td>\n",
       "      <td>71.173762</td>\n",
       "    </tr>\n",
       "    <tr>\n",
       "      <th>std</th>\n",
       "      <td>8.963134</td>\n",
       "      <td>21.154352</td>\n",
       "      <td>8.099675</td>\n",
       "      <td>5.109331</td>\n",
       "      <td>23.089655</td>\n",
       "    </tr>\n",
       "    <tr>\n",
       "      <th>min</th>\n",
       "      <td>30.000000</td>\n",
       "      <td>0.000000</td>\n",
       "      <td>1.000000</td>\n",
       "      <td>1.000000</td>\n",
       "      <td>0.000000</td>\n",
       "    </tr>\n",
       "    <tr>\n",
       "      <th>25%</th>\n",
       "      <td>47.000000</td>\n",
       "      <td>16.000000</td>\n",
       "      <td>9.000000</td>\n",
       "      <td>1.000000</td>\n",
       "      <td>56.000000</td>\n",
       "    </tr>\n",
       "    <tr>\n",
       "      <th>50%</th>\n",
       "      <td>54.000000</td>\n",
       "      <td>25.000000</td>\n",
       "      <td>14.000000</td>\n",
       "      <td>2.000000</td>\n",
       "      <td>73.000000</td>\n",
       "    </tr>\n",
       "    <tr>\n",
       "      <th>75%</th>\n",
       "      <td>61.000000</td>\n",
       "      <td>38.000000</td>\n",
       "      <td>19.000000</td>\n",
       "      <td>5.000000</td>\n",
       "      <td>90.000000</td>\n",
       "    </tr>\n",
       "    <tr>\n",
       "      <th>max</th>\n",
       "      <td>69.000000</td>\n",
       "      <td>140.000000</td>\n",
       "      <td>61.000000</td>\n",
       "      <td>46.000000</td>\n",
       "      <td>107.000000</td>\n",
       "    </tr>\n",
       "  </tbody>\n",
       "</table>\n",
       "</div>"
      ],
      "text/plain": [
       "               Age   Tumor Size  Regional Node Examined  \\\n",
       "count  4024.000000  4018.000000             4024.000000   \n",
       "mean     53.972167    30.422101               14.357107   \n",
       "std       8.963134    21.154352                8.099675   \n",
       "min      30.000000     0.000000                1.000000   \n",
       "25%      47.000000    16.000000                9.000000   \n",
       "50%      54.000000    25.000000               14.000000   \n",
       "75%      61.000000    38.000000               19.000000   \n",
       "max      69.000000   140.000000               61.000000   \n",
       "\n",
       "       Reginol Node Positive  Survival Months  \n",
       "count            4024.000000      4017.000000  \n",
       "mean                4.158052        71.173762  \n",
       "std                 5.109331        23.089655  \n",
       "min                 1.000000         0.000000  \n",
       "25%                 1.000000        56.000000  \n",
       "50%                 2.000000        73.000000  \n",
       "75%                 5.000000        90.000000  \n",
       "max                46.000000       107.000000  "
      ]
     },
     "execution_count": 70,
     "metadata": {},
     "output_type": "execute_result"
    }
   ],
   "source": [
    "numeric_data_status"
   ]
  },
  {
   "cell_type": "markdown",
   "id": "dc21deef-ab32-44a5-bb3b-5797494bd7ac",
   "metadata": {},
   "source": [
    "**Comment on the descriptive statistics of `Numeric data`**\n",
    "* There are missing values in `Tumor Size` & `Survival Months`.\n",
    "\n",
    "* **Age:**\n",
    "    * The average age is around 54 years, with a moderate variability of approximately 9 years.\n",
    "    * Patients' ages range from 30 to 69 years.\n",
    "---\n",
    "* **Tumor Size:**\n",
    "\n",
    "    * The average tumor size is approximately 30.4 units, with considerable variability (standard deviation ~21.2).\n",
    "    * Tumor sizes range from 0 to 140 units.\n",
    "---\n",
    "* **Regional Node Examined:**\n",
    "\n",
    "    * On average, approximately 14.4 regional nodes are examined, with a moderate spread (standard deviation ~8.1).\n",
    "    * The range extends from 1 to 61 nodes.\n",
    "---\n",
    "\n",
    "* **Regional Node Positive:**\n",
    "\n",
    "    * The average number of positive nodes is around 4.2, with a notable variability (standard deviation ~5.1).\n",
    "    * Positive nodes range from 1 to 46.\n",
    "\n",
    "---\n",
    "* **Survival Months:**\n",
    "\n",
    "    * The average survival period is approximately 71.2 months, with a substantial spread (standard deviation ~23.1).\n",
    "    * Patients' survival periods range from 0 to 107 months."
   ]
  },
  {
   "cell_type": "markdown",
   "id": "4b8b9aa4-aaca-484f-a3f7-c6478ffd79b8",
   "metadata": {},
   "source": [
    "##### Object data"
   ]
  },
  {
   "cell_type": "code",
   "execution_count": 73,
   "id": "d9b0e17b-c9d0-4c1a-880b-6675946457d2",
   "metadata": {},
   "outputs": [
    {
     "data": {
      "text/html": [
       "<div>\n",
       "<style scoped>\n",
       "    .dataframe tbody tr th:only-of-type {\n",
       "        vertical-align: middle;\n",
       "    }\n",
       "\n",
       "    .dataframe tbody tr th {\n",
       "        vertical-align: top;\n",
       "    }\n",
       "\n",
       "    .dataframe thead th {\n",
       "        text-align: right;\n",
       "    }\n",
       "</style>\n",
       "<table border=\"1\" class=\"dataframe\">\n",
       "  <thead>\n",
       "    <tr style=\"text-align: right;\">\n",
       "      <th></th>\n",
       "      <th>Race</th>\n",
       "      <th>Marital Status</th>\n",
       "      <th>T Stage</th>\n",
       "      <th>N Stage</th>\n",
       "      <th>6th Stage</th>\n",
       "      <th>differentiate</th>\n",
       "      <th>Grade</th>\n",
       "      <th>A Stage</th>\n",
       "      <th>Estrogen Status</th>\n",
       "      <th>Progesterone Status</th>\n",
       "      <th>Status</th>\n",
       "    </tr>\n",
       "  </thead>\n",
       "  <tbody>\n",
       "    <tr>\n",
       "      <th>count</th>\n",
       "      <td>4024</td>\n",
       "      <td>4024</td>\n",
       "      <td>4019</td>\n",
       "      <td>4024</td>\n",
       "      <td>4024</td>\n",
       "      <td>4018</td>\n",
       "      <td>4024</td>\n",
       "      <td>4024</td>\n",
       "      <td>4024</td>\n",
       "      <td>4024</td>\n",
       "      <td>4024</td>\n",
       "    </tr>\n",
       "    <tr>\n",
       "      <th>unique</th>\n",
       "      <td>3</td>\n",
       "      <td>5</td>\n",
       "      <td>4</td>\n",
       "      <td>3</td>\n",
       "      <td>5</td>\n",
       "      <td>4</td>\n",
       "      <td>4</td>\n",
       "      <td>2</td>\n",
       "      <td>2</td>\n",
       "      <td>3</td>\n",
       "      <td>2</td>\n",
       "    </tr>\n",
       "    <tr>\n",
       "      <th>top</th>\n",
       "      <td>White</td>\n",
       "      <td>Married</td>\n",
       "      <td>T2</td>\n",
       "      <td>N1</td>\n",
       "      <td>IIA</td>\n",
       "      <td>Moderately differentiated</td>\n",
       "      <td>2</td>\n",
       "      <td>Regional</td>\n",
       "      <td>Positive</td>\n",
       "      <td>Positive</td>\n",
       "      <td>Alive</td>\n",
       "    </tr>\n",
       "    <tr>\n",
       "      <th>freq</th>\n",
       "      <td>3413</td>\n",
       "      <td>2643</td>\n",
       "      <td>1785</td>\n",
       "      <td>2732</td>\n",
       "      <td>1305</td>\n",
       "      <td>2349</td>\n",
       "      <td>2351</td>\n",
       "      <td>3932</td>\n",
       "      <td>3755</td>\n",
       "      <td>3322</td>\n",
       "      <td>3408</td>\n",
       "    </tr>\n",
       "  </tbody>\n",
       "</table>\n",
       "</div>"
      ],
      "text/plain": [
       "         Race Marital Status T Stage  N Stage 6th Stage  \\\n",
       "count    4024           4024     4019    4024      4024   \n",
       "unique      3              5        4       3         5   \n",
       "top     White        Married       T2      N1       IIA   \n",
       "freq     3413           2643     1785    2732      1305   \n",
       "\n",
       "                    differentiate Grade   A Stage Estrogen Status  \\\n",
       "count                        4018  4024      4024            4024   \n",
       "unique                          4     4         2               2   \n",
       "top     Moderately differentiated     2  Regional        Positive   \n",
       "freq                         2349  2351      3932            3755   \n",
       "\n",
       "       Progesterone Status Status  \n",
       "count                 4024   4024  \n",
       "unique                   3      2  \n",
       "top               Positive  Alive  \n",
       "freq                  3322   3408  "
      ]
     },
     "execution_count": 73,
     "metadata": {},
     "output_type": "execute_result"
    }
   ],
   "source": [
    "object_data_status"
   ]
  },
  {
   "cell_type": "markdown",
   "id": "f9710e48-f0d9-4aa7-bfae-f22210d9249a",
   "metadata": {},
   "source": [
    "**Comment on the descriptive statistics of `Object data`**\n",
    "* There are missing values in `T Stage` & `differentiate`.\n",
    "\n",
    "* **Race:**\n",
    "    * The dataset includes information for three racial categories.\n",
    "    * The majority of patients (3413) belong to the White racial category.\n",
    "---\n",
    "* **Tumor Size:**\n",
    "\n",
    "    * The average tumor size is approximately 30.4 units, with considerable variability (standard deviation ~21.2).\n",
    "    * Tumor sizes range from 0 to 140 units.\n",
    "---\n",
    "* **Regional Node Examined:**\n",
    "\n",
    "    * On average, approximately 14.4 regional nodes are examined, with a moderate spread (standard deviation ~8.1).\n",
    "    * The range extends from 1 to 61 nodes.\n",
    "---\n",
    "\n",
    "* **Regional Node Positive:**\n",
    "\n",
    "    * The average number of positive nodes is around 4.2, with a notable variability (standard deviation ~5.1).\n",
    "    * Positive nodes range from 1 to 46.\n",
    "\n",
    "---\n",
    "* **Survival Months:**\n",
    "\n",
    "    * The average survival period is approximately 71.2 months, with a substantial spread (standard deviation ~23.1).\n",
    "    * Patients' survival periods range from 0 to 107 months."
   ]
  },
  {
   "cell_type": "markdown",
   "id": "4984c529",
   "metadata": {
    "id": "A35QX0niXoGx"
   },
   "source": [
    "###  Q2:\n",
    "Solution:"
   ]
  },
  {
   "cell_type": "code",
   "execution_count": null,
   "id": "48f173b9",
   "metadata": {},
   "outputs": [],
   "source": []
  },
  {
   "cell_type": "markdown",
   "id": "96ae6fac",
   "metadata": {},
   "source": [
    "###  Q3:"
   ]
  },
  {
   "cell_type": "code",
   "execution_count": null,
   "id": "d193629e",
   "metadata": {},
   "outputs": [],
   "source": []
  },
  {
   "cell_type": "code",
   "execution_count": null,
   "id": "20414ff7",
   "metadata": {},
   "outputs": [],
   "source": []
  },
  {
   "cell_type": "code",
   "execution_count": null,
   "id": "84c6b7db",
   "metadata": {},
   "outputs": [],
   "source": []
  },
  {
   "cell_type": "code",
   "execution_count": null,
   "id": "3c17a92c",
   "metadata": {},
   "outputs": [],
   "source": []
  },
  {
   "cell_type": "markdown",
   "id": "b58a776c",
   "metadata": {
    "id": "58Ymy0L_XoGx"
   },
   "source": [
    "###  Q4:\n",
    "Solution:\n",
    "\n"
   ]
  },
  {
   "cell_type": "code",
   "execution_count": null,
   "id": "b6436c5e",
   "metadata": {},
   "outputs": [],
   "source": []
  },
  {
   "cell_type": "code",
   "execution_count": null,
   "id": "9caf2733",
   "metadata": {},
   "outputs": [],
   "source": []
  },
  {
   "cell_type": "code",
   "execution_count": null,
   "id": "9601b7f6",
   "metadata": {
    "scrolled": true
   },
   "outputs": [],
   "source": []
  },
  {
   "cell_type": "markdown",
   "id": "9dca2272",
   "metadata": {},
   "source": [
    "###  Q5:"
   ]
  },
  {
   "cell_type": "code",
   "execution_count": null,
   "id": "09790b2c",
   "metadata": {},
   "outputs": [],
   "source": []
  },
  {
   "cell_type": "markdown",
   "id": "d389db7a",
   "metadata": {},
   "source": [
    "###  Q6:"
   ]
  },
  {
   "cell_type": "code",
   "execution_count": null,
   "id": "3e317352",
   "metadata": {},
   "outputs": [],
   "source": []
  },
  {
   "cell_type": "markdown",
   "id": "e1da5bb5",
   "metadata": {},
   "source": [
    "###  Q7:"
   ]
  },
  {
   "cell_type": "code",
   "execution_count": null,
   "id": "d89b7ba4",
   "metadata": {},
   "outputs": [],
   "source": []
  },
  {
   "cell_type": "markdown",
   "id": "b267f794",
   "metadata": {
    "id": "0PFiQNxBXoGy"
   },
   "source": [
    "###  Q8 :\n",
    "Solution\n"
   ]
  },
  {
   "cell_type": "code",
   "execution_count": null,
   "id": "ced4771e",
   "metadata": {
    "id": "gTObhjboXoG1"
   },
   "outputs": [],
   "source": []
  },
  {
   "cell_type": "markdown",
   "id": "27016452",
   "metadata": {
    "id": "27016452"
   },
   "source": [
    "# Assignment 2 - Machine Learning Models for Prediction\n",
    "**(15 points total)**\n",
    "\n",
    " \n",
    "* In **Assignment 1**, we have explored the data, cleaned up the data, modified features, and created new ones. \n",
    "* In **Assignment 2**, we will apply supervised machine learning models for classification and regression, evaluate its perofrmance, and identify the best models to solve the following problems: \n",
    "\n",
    "    * The **classification problem** is: given a train dataset of patients who survived or did not survive, build a model which can determine based on a given test dataset not containing the death event information information, if these patients in the test dataset survived or not. \n",
    "\n",
    "    * The **regression problem** is: predict the number of months that remains for the survival of the patient.\n",
    "\n"
   ]
  },
  {
   "cell_type": "markdown",
   "id": "2e88a11a",
   "metadata": {
    "id": "2e88a11a"
   },
   "source": [
    "**Question 1. (Data preparation)**  _(2 points)_\n",
    "* List the relevant features which you will use for classification and explain your answer (*a relevant feature is a feature that can have an impact on the chance of survival of the patient*).\n",
    "* List the relevant features which you will use for regression and explain your answer (*a relevant feature is a feature that can have an impact on the prediction of the number of remaining survival months of the patient*).\n",
    "* Divide both your datasets into a training set (70%) and a testing set (30%). All models will be trained and tested on the same splits.\n",
    "    \n",
    "\n",
    "\n",
    "\n"
   ]
  },
  {
   "cell_type": "markdown",
   "id": "551f1682",
   "metadata": {},
   "source": [
    "###  Data Preparation & Spliting for the Classification Model"
   ]
  },
  {
   "cell_type": "code",
   "execution_count": null,
   "id": "544f1be5",
   "metadata": {},
   "outputs": [],
   "source": []
  },
  {
   "cell_type": "code",
   "execution_count": null,
   "id": "fc9e9a73",
   "metadata": {},
   "outputs": [],
   "source": []
  },
  {
   "cell_type": "code",
   "execution_count": null,
   "id": "98c2b172",
   "metadata": {},
   "outputs": [],
   "source": []
  },
  {
   "cell_type": "markdown",
   "id": "6fab776c",
   "metadata": {},
   "source": [
    "###  Data Preparation & Spliting for the Regression Model"
   ]
  },
  {
   "cell_type": "code",
   "execution_count": null,
   "id": "afe9f991",
   "metadata": {},
   "outputs": [],
   "source": []
  },
  {
   "cell_type": "code",
   "execution_count": null,
   "id": "5ee5ff20",
   "metadata": {},
   "outputs": [],
   "source": []
  },
  {
   "cell_type": "markdown",
   "id": "25c431c5",
   "metadata": {},
   "source": [
    "**Question 2. (Classification models)**  _(3 points)_\n",
    "* Train three different classification models of your choice using the training set. Explain the rationale behind selecting each of these three algorithms. You may refer to the following guidlines for model selection: \n",
    "    * Diagram from scikit-learn: https://scikit-learn.org/stable/tutorial/machine_learning_map/\n",
    "    * Models comparison table: https://docs.google.com/spreadsheets/d/16i47Wmjpj8k-mFRk-NnXXU5tmSQz8h37YxluDV8Zy9U/edit#gid=0\n",
    "\n"
   ]
  },
  {
   "cell_type": "code",
   "execution_count": null,
   "id": "6539507d",
   "metadata": {},
   "outputs": [],
   "source": []
  },
  {
   "cell_type": "markdown",
   "id": "336ed144",
   "metadata": {},
   "source": [
    "**Question 3. (Evaluation of classification models)**  _(3 points)_\n",
    "* Evaluate the performance of your three classification models on the testing set using the following metrics: accuracy, area under the curve (AUC), precision, and recall.\n",
    "* Based on the models evaluation results, what is the best model and why?\n",
    "\n",
    "\n"
   ]
  },
  {
   "cell_type": "code",
   "execution_count": null,
   "id": "b7cae9d6",
   "metadata": {},
   "outputs": [],
   "source": []
  },
  {
   "cell_type": "markdown",
   "id": "1acfce0f",
   "metadata": {},
   "source": [
    "**Question 4. (Regression models)**  _(3 points)_\n",
    "* Train two different regression models of your choice using the training set. Explain the rationale behind selecting each of these two algorithms. \n",
    "\n"
   ]
  },
  {
   "cell_type": "code",
   "execution_count": null,
   "id": "c89d9171",
   "metadata": {},
   "outputs": [],
   "source": []
  },
  {
   "cell_type": "markdown",
   "id": "67df3da6",
   "metadata": {},
   "source": [
    "**Question 5. (Evaluation of regression models)**  _(3 points)_\n",
    "* Evaluate the performance of your two regression models on the testing set using the following metrics: mean absolute error,mean squared error, and R-square.\n",
    "* Based on the models evaluation results, what is the best model and why?\n",
    "\n"
   ]
  },
  {
   "cell_type": "code",
   "execution_count": null,
   "id": "5d90c2ee",
   "metadata": {},
   "outputs": [],
   "source": []
  },
  {
   "cell_type": "markdown",
   "id": "3fedebbf",
   "metadata": {},
   "source": [
    "**Question 6. (Possible improvements)** _(1 points)_\n",
    "* How can you improve the accuracy of your classification model?\n",
    "* How can you improve the accuracy of your regression model?"
   ]
  },
  {
   "cell_type": "code",
   "execution_count": null,
   "id": "e51f4bb6",
   "metadata": {},
   "outputs": [],
   "source": []
  },
  {
   "cell_type": "code",
   "execution_count": null,
   "id": "c9af8718",
   "metadata": {},
   "outputs": [],
   "source": []
  },
  {
   "cell_type": "code",
   "execution_count": null,
   "id": "b36a4b9e",
   "metadata": {},
   "outputs": [],
   "source": []
  },
  {
   "cell_type": "code",
   "execution_count": null,
   "id": "2fad3527",
   "metadata": {},
   "outputs": [],
   "source": []
  }
 ],
 "metadata": {
  "kernelspec": {
   "display_name": "Python 3 (ipykernel)",
   "language": "python",
   "name": "python3"
  },
  "language_info": {
   "codemirror_mode": {
    "name": "ipython",
    "version": 3
   },
   "file_extension": ".py",
   "mimetype": "text/x-python",
   "name": "python",
   "nbconvert_exporter": "python",
   "pygments_lexer": "ipython3",
   "version": "3.9.16"
  }
 },
 "nbformat": 4,
 "nbformat_minor": 5
}
